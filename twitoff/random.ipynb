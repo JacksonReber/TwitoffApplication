{
 "metadata": {
  "language_info": {
   "codemirror_mode": {
    "name": "ipython",
    "version": 3
   },
   "file_extension": ".py",
   "mimetype": "text/x-python",
   "name": "python",
   "nbconvert_exporter": "python",
   "pygments_lexer": "ipython3",
   "version": "3.8.10"
  },
  "orig_nbformat": 4,
  "kernelspec": {
   "name": "python3",
   "display_name": "Python 3.8.10 64-bit ('Unit3Sprint3Assign1-i3OEAzgG': pipenv)"
  },
  "interpreter": {
   "hash": "d1bfa86e2589ed08bfff4ce0a8ec2899a839eba6f48a74da506b7f20e026363e"
  }
 },
 "nbformat": 4,
 "nbformat_minor": 2,
 "cells": [
  {
   "cell_type": "code",
   "execution_count": 4,
   "source": [
    "import tweepy"
   ],
   "outputs": [],
   "metadata": {}
  },
  {
   "cell_type": "code",
   "execution_count": 5,
   "source": [
    "TWITTER_API_KEY = \"r2YoguWZvX0IF2WqPuwyvXdUf\"\n",
    "TWITTER_API_KEY_SECRET = \"pO7Zr4Lq1NToqVckaMMYGJUQ9kwoVRPR20pDuLX6H9YDKJq2wH\"\n",
    "\n",
    "TWITTER_AUTH = tweepy.OAuthHandler(TWITTER_API_KEY, TWITTER_API_KEY_SECRET)\n",
    "TWITTER = tweepy.API(TWITTER_AUTH)\n"
   ],
   "outputs": [],
   "metadata": {}
  },
  {
   "cell_type": "code",
   "execution_count": 6,
   "source": [
    "TWITTER"
   ],
   "outputs": [
    {
     "output_type": "execute_result",
     "data": {
      "text/plain": [
       "<tweepy.api.API at 0x7f9d4e80b400>"
      ]
     },
     "metadata": {},
     "execution_count": 6
    }
   ],
   "metadata": {}
  },
  {
   "cell_type": "code",
   "execution_count": 7,
   "source": [
    "nasa = TWITTER.get_user(\"nasa\")"
   ],
   "outputs": [],
   "metadata": {}
  },
  {
   "cell_type": "code",
   "execution_count": 8,
   "source": [
    "nasa"
   ],
   "outputs": [
    {
     "output_type": "execute_result",
     "data": {
      "text/plain": [
       "User(_api=<tweepy.api.API object at 0x7f9d4e80b400>, _json={'id': 11348282, 'id_str': '11348282', 'name': 'NASA', 'screen_name': 'NASA', 'location': 'Pale Blue Dot', 'profile_location': None, 'description': \"There's space for everybody. ✨\", 'url': 'https://t.co/HMJJbimQpV', 'entities': {'url': {'urls': [{'url': 'https://t.co/HMJJbimQpV', 'expanded_url': 'http://www.nasa.gov/', 'display_url': 'nasa.gov', 'indices': [0, 23]}]}, 'description': {'urls': []}}, 'protected': False, 'followers_count': 48051985, 'friends_count': 175, 'listed_count': 96343, 'created_at': 'Wed Dec 19 20:20:32 +0000 2007', 'favourites_count': 13114, 'utc_offset': None, 'time_zone': None, 'geo_enabled': False, 'verified': True, 'statuses_count': 66285, 'lang': None, 'status': {'created_at': 'Wed Aug 18 23:12:00 +0000 2021', 'id': 1428132601299050499, 'id_str': '1428132601299050499', 'text': \"🔭 What's up in the night sky? The Perseid meteor shower has peaked — but there's a great opportunity to spot Jupite… https://t.co/a6NvGrnfvs\", 'truncated': True, 'entities': {'hashtags': [], 'symbols': [], 'user_mentions': [], 'urls': [{'url': 'https://t.co/a6NvGrnfvs', 'expanded_url': 'https://twitter.com/i/web/status/1428132601299050499', 'display_url': 'twitter.com/i/web/status/1…', 'indices': [117, 140]}]}, 'source': '<a href=\"https://studio.twitter.com\" rel=\"nofollow\">Twitter Media Studio</a>', 'in_reply_to_status_id': None, 'in_reply_to_status_id_str': None, 'in_reply_to_user_id': None, 'in_reply_to_user_id_str': None, 'in_reply_to_screen_name': None, 'geo': None, 'coordinates': None, 'place': None, 'contributors': None, 'is_quote_status': False, 'retweet_count': 453, 'favorite_count': 2064, 'favorited': False, 'retweeted': False, 'possibly_sensitive': False, 'lang': 'en'}, 'contributors_enabled': False, 'is_translator': False, 'is_translation_enabled': False, 'profile_background_color': '000000', 'profile_background_image_url': 'http://abs.twimg.com/images/themes/theme1/bg.png', 'profile_background_image_url_https': 'https://abs.twimg.com/images/themes/theme1/bg.png', 'profile_background_tile': False, 'profile_image_url': 'http://pbs.twimg.com/profile_images/1321163587679784960/0ZxKlEKB_normal.jpg', 'profile_image_url_https': 'https://pbs.twimg.com/profile_images/1321163587679784960/0ZxKlEKB_normal.jpg', 'profile_banner_url': 'https://pbs.twimg.com/profile_banners/11348282/1628090098', 'profile_link_color': '205BA7', 'profile_sidebar_border_color': '000000', 'profile_sidebar_fill_color': 'F3F2F2', 'profile_text_color': '000000', 'profile_use_background_image': True, 'has_extended_profile': True, 'default_profile': False, 'default_profile_image': False, 'following': None, 'follow_request_sent': None, 'notifications': None, 'translator_type': 'regular', 'withheld_in_countries': []}, id=11348282, id_str='11348282', name='NASA', screen_name='NASA', location='Pale Blue Dot', profile_location=None, description=\"There's space for everybody. ✨\", url='https://t.co/HMJJbimQpV', entities={'url': {'urls': [{'url': 'https://t.co/HMJJbimQpV', 'expanded_url': 'http://www.nasa.gov/', 'display_url': 'nasa.gov', 'indices': [0, 23]}]}, 'description': {'urls': []}}, protected=False, followers_count=48051985, friends_count=175, listed_count=96343, created_at=datetime.datetime(2007, 12, 19, 20, 20, 32), favourites_count=13114, utc_offset=None, time_zone=None, geo_enabled=False, verified=True, statuses_count=66285, lang=None, status=Status(_api=<tweepy.api.API object at 0x7f9d4e80b400>, _json={'created_at': 'Wed Aug 18 23:12:00 +0000 2021', 'id': 1428132601299050499, 'id_str': '1428132601299050499', 'text': \"🔭 What's up in the night sky? The Perseid meteor shower has peaked — but there's a great opportunity to spot Jupite… https://t.co/a6NvGrnfvs\", 'truncated': True, 'entities': {'hashtags': [], 'symbols': [], 'user_mentions': [], 'urls': [{'url': 'https://t.co/a6NvGrnfvs', 'expanded_url': 'https://twitter.com/i/web/status/1428132601299050499', 'display_url': 'twitter.com/i/web/status/1…', 'indices': [117, 140]}]}, 'source': '<a href=\"https://studio.twitter.com\" rel=\"nofollow\">Twitter Media Studio</a>', 'in_reply_to_status_id': None, 'in_reply_to_status_id_str': None, 'in_reply_to_user_id': None, 'in_reply_to_user_id_str': None, 'in_reply_to_screen_name': None, 'geo': None, 'coordinates': None, 'place': None, 'contributors': None, 'is_quote_status': False, 'retweet_count': 453, 'favorite_count': 2064, 'favorited': False, 'retweeted': False, 'possibly_sensitive': False, 'lang': 'en'}, created_at=datetime.datetime(2021, 8, 18, 23, 12), id=1428132601299050499, id_str='1428132601299050499', text=\"🔭 What's up in the night sky? The Perseid meteor shower has peaked — but there's a great opportunity to spot Jupite… https://t.co/a6NvGrnfvs\", truncated=True, entities={'hashtags': [], 'symbols': [], 'user_mentions': [], 'urls': [{'url': 'https://t.co/a6NvGrnfvs', 'expanded_url': 'https://twitter.com/i/web/status/1428132601299050499', 'display_url': 'twitter.com/i/web/status/1…', 'indices': [117, 140]}]}, source='Twitter Media Studio', source_url='https://studio.twitter.com', in_reply_to_status_id=None, in_reply_to_status_id_str=None, in_reply_to_user_id=None, in_reply_to_user_id_str=None, in_reply_to_screen_name=None, geo=None, coordinates=None, place=None, contributors=None, is_quote_status=False, retweet_count=453, favorite_count=2064, favorited=False, retweeted=False, possibly_sensitive=False, lang='en'), contributors_enabled=False, is_translator=False, is_translation_enabled=False, profile_background_color='000000', profile_background_image_url='http://abs.twimg.com/images/themes/theme1/bg.png', profile_background_image_url_https='https://abs.twimg.com/images/themes/theme1/bg.png', profile_background_tile=False, profile_image_url='http://pbs.twimg.com/profile_images/1321163587679784960/0ZxKlEKB_normal.jpg', profile_image_url_https='https://pbs.twimg.com/profile_images/1321163587679784960/0ZxKlEKB_normal.jpg', profile_banner_url='https://pbs.twimg.com/profile_banners/11348282/1628090098', profile_link_color='205BA7', profile_sidebar_border_color='000000', profile_sidebar_fill_color='F3F2F2', profile_text_color='000000', profile_use_background_image=True, has_extended_profile=True, default_profile=False, default_profile_image=False, following=False, follow_request_sent=None, notifications=None, translator_type='regular', withheld_in_countries=[])"
      ]
     },
     "metadata": {},
     "execution_count": 8
    }
   ],
   "metadata": {}
  },
  {
   "cell_type": "code",
   "execution_count": 9,
   "source": [],
   "outputs": [],
   "metadata": {}
  },
  {
   "cell_type": "code",
   "execution_count": 10,
   "source": [],
   "outputs": [
    {
     "output_type": "execute_result",
     "data": {
      "text/plain": [
       "<tweepy.auth.OAuthHandler at 0x7f9dcf449f70>"
      ]
     },
     "metadata": {},
     "execution_count": 10
    }
   ],
   "metadata": {}
  },
  {
   "cell_type": "code",
   "execution_count": 11,
   "source": [],
   "outputs": [],
   "metadata": {}
  },
  {
   "cell_type": "code",
   "execution_count": 12,
   "source": [],
   "outputs": [
    {
     "output_type": "execute_result",
     "data": {
      "text/plain": [
       "<tweepy.api.API at 0x7f9dceea2e80>"
      ]
     },
     "metadata": {},
     "execution_count": 12
    }
   ],
   "metadata": {}
  },
  {
   "cell_type": "code",
   "execution_count": 13,
   "source": [
    "nasa = TWITTER.get_user('nasa')"
   ],
   "outputs": [],
   "metadata": {}
  },
  {
   "cell_type": "code",
   "execution_count": 14,
   "source": [
    "nasa"
   ],
   "outputs": [
    {
     "output_type": "execute_result",
     "data": {
      "text/plain": [
       "User(_api=<tweepy.api.API object at 0x7f9dceea2e80>, _json={'id': 11348282, 'id_str': '11348282', 'name': 'NASA', 'screen_name': 'NASA', 'location': 'Pale Blue Dot', 'profile_location': None, 'description': \"There's space for everybody. ✨\", 'url': 'https://t.co/HMJJbimQpV', 'entities': {'url': {'urls': [{'url': 'https://t.co/HMJJbimQpV', 'expanded_url': 'http://www.nasa.gov/', 'display_url': 'nasa.gov', 'indices': [0, 23]}]}, 'description': {'urls': []}}, 'protected': False, 'followers_count': 48051331, 'friends_count': 175, 'listed_count': 96351, 'created_at': 'Wed Dec 19 20:20:32 +0000 2007', 'favourites_count': 13112, 'utc_offset': None, 'time_zone': None, 'geo_enabled': False, 'verified': True, 'statuses_count': 66282, 'lang': None, 'status': {'created_at': 'Wed Aug 18 20:16:13 +0000 2021', 'id': 1428088366407561216, 'id_str': '1428088366407561216', 'text': \"🚀 We're calling for student tech ideas!\\n\\n💡 6th-12th grade educators &amp; students affiliated with U.S. schools are inv… https://t.co/hXvlSXbyfU\", 'truncated': True, 'entities': {'hashtags': [], 'symbols': [], 'user_mentions': [], 'urls': [{'url': 'https://t.co/hXvlSXbyfU', 'expanded_url': 'https://twitter.com/i/web/status/1428088366407561216', 'display_url': 'twitter.com/i/web/status/1…', 'indices': [121, 144]}]}, 'source': '<a href=\"https://www.sprinklr.com\" rel=\"nofollow\">Sprinklr</a>', 'in_reply_to_status_id': None, 'in_reply_to_status_id_str': None, 'in_reply_to_user_id': None, 'in_reply_to_user_id_str': None, 'in_reply_to_screen_name': None, 'geo': None, 'coordinates': None, 'place': None, 'contributors': None, 'is_quote_status': False, 'retweet_count': 30, 'favorite_count': 151, 'favorited': False, 'retweeted': False, 'possibly_sensitive': False, 'lang': 'en'}, 'contributors_enabled': False, 'is_translator': False, 'is_translation_enabled': False, 'profile_background_color': '000000', 'profile_background_image_url': 'http://abs.twimg.com/images/themes/theme1/bg.png', 'profile_background_image_url_https': 'https://abs.twimg.com/images/themes/theme1/bg.png', 'profile_background_tile': False, 'profile_image_url': 'http://pbs.twimg.com/profile_images/1321163587679784960/0ZxKlEKB_normal.jpg', 'profile_image_url_https': 'https://pbs.twimg.com/profile_images/1321163587679784960/0ZxKlEKB_normal.jpg', 'profile_banner_url': 'https://pbs.twimg.com/profile_banners/11348282/1628090098', 'profile_link_color': '205BA7', 'profile_sidebar_border_color': '000000', 'profile_sidebar_fill_color': 'F3F2F2', 'profile_text_color': '000000', 'profile_use_background_image': True, 'has_extended_profile': True, 'default_profile': False, 'default_profile_image': False, 'following': None, 'follow_request_sent': None, 'notifications': None, 'translator_type': 'regular', 'withheld_in_countries': []}, id=11348282, id_str='11348282', name='NASA', screen_name='NASA', location='Pale Blue Dot', profile_location=None, description=\"There's space for everybody. ✨\", url='https://t.co/HMJJbimQpV', entities={'url': {'urls': [{'url': 'https://t.co/HMJJbimQpV', 'expanded_url': 'http://www.nasa.gov/', 'display_url': 'nasa.gov', 'indices': [0, 23]}]}, 'description': {'urls': []}}, protected=False, followers_count=48051331, friends_count=175, listed_count=96351, created_at=datetime.datetime(2007, 12, 19, 20, 20, 32), favourites_count=13112, utc_offset=None, time_zone=None, geo_enabled=False, verified=True, statuses_count=66282, lang=None, status=Status(_api=<tweepy.api.API object at 0x7f9dceea2e80>, _json={'created_at': 'Wed Aug 18 20:16:13 +0000 2021', 'id': 1428088366407561216, 'id_str': '1428088366407561216', 'text': \"🚀 We're calling for student tech ideas!\\n\\n💡 6th-12th grade educators &amp; students affiliated with U.S. schools are inv… https://t.co/hXvlSXbyfU\", 'truncated': True, 'entities': {'hashtags': [], 'symbols': [], 'user_mentions': [], 'urls': [{'url': 'https://t.co/hXvlSXbyfU', 'expanded_url': 'https://twitter.com/i/web/status/1428088366407561216', 'display_url': 'twitter.com/i/web/status/1…', 'indices': [121, 144]}]}, 'source': '<a href=\"https://www.sprinklr.com\" rel=\"nofollow\">Sprinklr</a>', 'in_reply_to_status_id': None, 'in_reply_to_status_id_str': None, 'in_reply_to_user_id': None, 'in_reply_to_user_id_str': None, 'in_reply_to_screen_name': None, 'geo': None, 'coordinates': None, 'place': None, 'contributors': None, 'is_quote_status': False, 'retweet_count': 30, 'favorite_count': 151, 'favorited': False, 'retweeted': False, 'possibly_sensitive': False, 'lang': 'en'}, created_at=datetime.datetime(2021, 8, 18, 20, 16, 13), id=1428088366407561216, id_str='1428088366407561216', text=\"🚀 We're calling for student tech ideas!\\n\\n💡 6th-12th grade educators &amp; students affiliated with U.S. schools are inv… https://t.co/hXvlSXbyfU\", truncated=True, entities={'hashtags': [], 'symbols': [], 'user_mentions': [], 'urls': [{'url': 'https://t.co/hXvlSXbyfU', 'expanded_url': 'https://twitter.com/i/web/status/1428088366407561216', 'display_url': 'twitter.com/i/web/status/1…', 'indices': [121, 144]}]}, source='Sprinklr', source_url='https://www.sprinklr.com', in_reply_to_status_id=None, in_reply_to_status_id_str=None, in_reply_to_user_id=None, in_reply_to_user_id_str=None, in_reply_to_screen_name=None, geo=None, coordinates=None, place=None, contributors=None, is_quote_status=False, retweet_count=30, favorite_count=151, favorited=False, retweeted=False, possibly_sensitive=False, lang='en'), contributors_enabled=False, is_translator=False, is_translation_enabled=False, profile_background_color='000000', profile_background_image_url='http://abs.twimg.com/images/themes/theme1/bg.png', profile_background_image_url_https='https://abs.twimg.com/images/themes/theme1/bg.png', profile_background_tile=False, profile_image_url='http://pbs.twimg.com/profile_images/1321163587679784960/0ZxKlEKB_normal.jpg', profile_image_url_https='https://pbs.twimg.com/profile_images/1321163587679784960/0ZxKlEKB_normal.jpg', profile_banner_url='https://pbs.twimg.com/profile_banners/11348282/1628090098', profile_link_color='205BA7', profile_sidebar_border_color='000000', profile_sidebar_fill_color='F3F2F2', profile_text_color='000000', profile_use_background_image=True, has_extended_profile=True, default_profile=False, default_profile_image=False, following=False, follow_request_sent=None, notifications=None, translator_type='regular', withheld_in_countries=[])"
      ]
     },
     "metadata": {},
     "execution_count": 14
    }
   ],
   "metadata": {}
  },
  {
   "cell_type": "code",
   "execution_count": 15,
   "source": [
    "nasa_tweets = nasa.timeline(count=100, exclude_replies=True, include_rts=False, tweet_mode=\"Extended\")"
   ],
   "outputs": [],
   "metadata": {}
  },
  {
   "cell_type": "code",
   "execution_count": 16,
   "source": [
    "nasa_tweets[0].text"
   ],
   "outputs": [
    {
     "output_type": "execute_result",
     "data": {
      "text/plain": [
       "\"🚀 We're calling for student tech ideas!\\n\\n💡 6th-12th grade educators &amp; students affiliated with U.S. schools are inv… https://t.co/hXvlSXbyfU\""
      ]
     },
     "metadata": {},
     "execution_count": 16
    }
   ],
   "metadata": {}
  },
  {
   "cell_type": "code",
   "execution_count": 9,
   "source": [
    "import spacy\n",
    "import en_core_web_sm\n",
    "from spacy.lang.en.examples import sentences"
   ],
   "outputs": [
    {
     "output_type": "error",
     "ename": "ModuleNotFoundError",
     "evalue": "No module named 'en_core_web_sm'",
     "traceback": [
      "\u001b[0;31m---------------------------------------------------------------------------\u001b[0m",
      "\u001b[0;31mModuleNotFoundError\u001b[0m                       Traceback (most recent call last)",
      "\u001b[0;32m/tmp/ipykernel_6589/3986109559.py\u001b[0m in \u001b[0;36m<module>\u001b[0;34m\u001b[0m\n\u001b[1;32m      1\u001b[0m \u001b[0;32mimport\u001b[0m \u001b[0mspacy\u001b[0m\u001b[0;34m\u001b[0m\u001b[0;34m\u001b[0m\u001b[0m\n\u001b[0;32m----> 2\u001b[0;31m \u001b[0;32mimport\u001b[0m \u001b[0men_core_web_sm\u001b[0m\u001b[0;34m\u001b[0m\u001b[0;34m\u001b[0m\u001b[0m\n\u001b[0m\u001b[1;32m      3\u001b[0m \u001b[0;32mfrom\u001b[0m \u001b[0mspacy\u001b[0m\u001b[0;34m.\u001b[0m\u001b[0mlang\u001b[0m\u001b[0;34m.\u001b[0m\u001b[0men\u001b[0m\u001b[0;34m.\u001b[0m\u001b[0mexamples\u001b[0m \u001b[0;32mimport\u001b[0m \u001b[0msentences\u001b[0m\u001b[0;34m\u001b[0m\u001b[0;34m\u001b[0m\u001b[0m\n",
      "\u001b[0;31mModuleNotFoundError\u001b[0m: No module named 'en_core_web_sm'"
     ]
    }
   ],
   "metadata": {}
  },
  {
   "cell_type": "code",
   "execution_count": 6,
   "source": [
    "python -m spacy download en_core_web_sm"
   ],
   "outputs": [
    {
     "output_type": "error",
     "ename": "SyntaxError",
     "evalue": "invalid syntax (581980377.py, line 1)",
     "traceback": [
      "\u001b[0;36m  File \u001b[0;32m\"/tmp/ipykernel_6589/581980377.py\"\u001b[0;36m, line \u001b[0;32m1\u001b[0m\n\u001b[0;31m    python -m spacy download en_core_web_sm\u001b[0m\n\u001b[0m              ^\u001b[0m\n\u001b[0;31mSyntaxError\u001b[0m\u001b[0;31m:\u001b[0m invalid syntax\n"
     ]
    }
   ],
   "metadata": {}
  },
  {
   "cell_type": "code",
   "execution_count": 11,
   "source": [
    "import spacy\n",
    "spacy\n",
    "nlp = spacy.load(\"en_core_web_sm\")"
   ],
   "outputs": [
    {
     "output_type": "error",
     "ename": "OSError",
     "evalue": "[E050] Can't find model 'en_core_web_sm'. It doesn't seem to be a Python package or a valid path to a data directory.",
     "traceback": [
      "\u001b[0;31m---------------------------------------------------------------------------\u001b[0m",
      "\u001b[0;31mOSError\u001b[0m                                   Traceback (most recent call last)",
      "\u001b[0;32m/tmp/ipykernel_6589/3289892424.py\u001b[0m in \u001b[0;36m<module>\u001b[0;34m\u001b[0m\n\u001b[1;32m      1\u001b[0m \u001b[0;32mimport\u001b[0m \u001b[0mspacy\u001b[0m\u001b[0;34m\u001b[0m\u001b[0;34m\u001b[0m\u001b[0m\n\u001b[0;32m----> 2\u001b[0;31m \u001b[0mnlp\u001b[0m \u001b[0;34m=\u001b[0m \u001b[0mspacy\u001b[0m\u001b[0;34m.\u001b[0m\u001b[0mload\u001b[0m\u001b[0;34m(\u001b[0m\u001b[0;34m\"en_core_web_sm\"\u001b[0m\u001b[0;34m)\u001b[0m\u001b[0;34m\u001b[0m\u001b[0;34m\u001b[0m\u001b[0m\n\u001b[0m",
      "\u001b[0;32m~/.local/share/virtualenvs/twitoff-J16WF2Ol/lib/python3.9/site-packages/spacy/__init__.py\u001b[0m in \u001b[0;36mload\u001b[0;34m(name, vocab, disable, exclude, config)\u001b[0m\n\u001b[1;32m     49\u001b[0m     \u001b[0mRETURNS\u001b[0m \u001b[0;34m(\u001b[0m\u001b[0mLanguage\u001b[0m\u001b[0;34m)\u001b[0m\u001b[0;34m:\u001b[0m \u001b[0mThe\u001b[0m \u001b[0mloaded\u001b[0m \u001b[0mnlp\u001b[0m \u001b[0mobject\u001b[0m\u001b[0;34m.\u001b[0m\u001b[0;34m\u001b[0m\u001b[0;34m\u001b[0m\u001b[0m\n\u001b[1;32m     50\u001b[0m     \"\"\"\n\u001b[0;32m---> 51\u001b[0;31m     return util.load_model(\n\u001b[0m\u001b[1;32m     52\u001b[0m         \u001b[0mname\u001b[0m\u001b[0;34m,\u001b[0m \u001b[0mvocab\u001b[0m\u001b[0;34m=\u001b[0m\u001b[0mvocab\u001b[0m\u001b[0;34m,\u001b[0m \u001b[0mdisable\u001b[0m\u001b[0;34m=\u001b[0m\u001b[0mdisable\u001b[0m\u001b[0;34m,\u001b[0m \u001b[0mexclude\u001b[0m\u001b[0;34m=\u001b[0m\u001b[0mexclude\u001b[0m\u001b[0;34m,\u001b[0m \u001b[0mconfig\u001b[0m\u001b[0;34m=\u001b[0m\u001b[0mconfig\u001b[0m\u001b[0;34m\u001b[0m\u001b[0;34m\u001b[0m\u001b[0m\n\u001b[1;32m     53\u001b[0m     )\n",
      "\u001b[0;32m~/.local/share/virtualenvs/twitoff-J16WF2Ol/lib/python3.9/site-packages/spacy/util.py\u001b[0m in \u001b[0;36mload_model\u001b[0;34m(name, vocab, disable, exclude, config)\u001b[0m\n\u001b[1;32m    329\u001b[0m     \u001b[0;32mif\u001b[0m \u001b[0mname\u001b[0m \u001b[0;32min\u001b[0m \u001b[0mOLD_MODEL_SHORTCUTS\u001b[0m\u001b[0;34m:\u001b[0m\u001b[0;34m\u001b[0m\u001b[0;34m\u001b[0m\u001b[0m\n\u001b[1;32m    330\u001b[0m         \u001b[0;32mraise\u001b[0m \u001b[0mIOError\u001b[0m\u001b[0;34m(\u001b[0m\u001b[0mErrors\u001b[0m\u001b[0;34m.\u001b[0m\u001b[0mE941\u001b[0m\u001b[0;34m.\u001b[0m\u001b[0mformat\u001b[0m\u001b[0;34m(\u001b[0m\u001b[0mname\u001b[0m\u001b[0;34m=\u001b[0m\u001b[0mname\u001b[0m\u001b[0;34m,\u001b[0m \u001b[0mfull\u001b[0m\u001b[0;34m=\u001b[0m\u001b[0mOLD_MODEL_SHORTCUTS\u001b[0m\u001b[0;34m[\u001b[0m\u001b[0mname\u001b[0m\u001b[0;34m]\u001b[0m\u001b[0;34m)\u001b[0m\u001b[0;34m)\u001b[0m\u001b[0;34m\u001b[0m\u001b[0;34m\u001b[0m\u001b[0m\n\u001b[0;32m--> 331\u001b[0;31m     \u001b[0;32mraise\u001b[0m \u001b[0mIOError\u001b[0m\u001b[0;34m(\u001b[0m\u001b[0mErrors\u001b[0m\u001b[0;34m.\u001b[0m\u001b[0mE050\u001b[0m\u001b[0;34m.\u001b[0m\u001b[0mformat\u001b[0m\u001b[0;34m(\u001b[0m\u001b[0mname\u001b[0m\u001b[0;34m=\u001b[0m\u001b[0mname\u001b[0m\u001b[0;34m)\u001b[0m\u001b[0;34m)\u001b[0m\u001b[0;34m\u001b[0m\u001b[0;34m\u001b[0m\u001b[0m\n\u001b[0m\u001b[1;32m    332\u001b[0m \u001b[0;34m\u001b[0m\u001b[0m\n\u001b[1;32m    333\u001b[0m \u001b[0;34m\u001b[0m\u001b[0m\n",
      "\u001b[0;31mOSError\u001b[0m: [E050] Can't find model 'en_core_web_sm'. It doesn't seem to be a Python package or a valid path to a data directory."
     ]
    }
   ],
   "metadata": {}
  },
  {
   "cell_type": "code",
   "execution_count": null,
   "source": [],
   "outputs": [],
   "metadata": {}
  }
 ]
}